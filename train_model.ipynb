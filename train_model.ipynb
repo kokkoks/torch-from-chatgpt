{
 "cells": [
  {
   "cell_type": "code",
   "execution_count": 3,
   "id": "7acb9743-682d-4638-8dce-8ce106268af1",
   "metadata": {},
   "outputs": [],
   "source": [
    "import torch\n",
    "import torchvision\n",
    "from torchvision import transforms"
   ]
  },
  {
   "cell_type": "code",
   "execution_count": 4,
   "id": "2c5bfca8-a7b6-484b-a021-5d958d66e739",
   "metadata": {},
   "outputs": [],
   "source": [
    "transform = transforms.Compose([transforms.Resize((256, 256)),\n",
    "                                transforms.ToTensor()])"
   ]
  },
  {
   "cell_type": "code",
   "execution_count": 8,
   "id": "4375c44c-8900-4b73-9b7b-226087f0e122",
   "metadata": {},
   "outputs": [],
   "source": [
    "data = torchvision.datasets.ImageFolder(root='data/', transform=transform)"
   ]
  },
  {
   "cell_type": "code",
   "execution_count": 9,
   "id": "95737b69-1742-4091-bd67-2986c2e600c7",
   "metadata": {},
   "outputs": [],
   "source": [
    "train_size = int(0.8 * len(data))\n",
    "test_size = len(data) - train_size\n",
    "train_data, test_data = torch.utils.data.random_split(data, [train_size, test_size])"
   ]
  },
  {
   "cell_type": "code",
   "execution_count": 10,
   "id": "fb4bb806-ac94-4df4-ba59-e2e325bd57cf",
   "metadata": {},
   "outputs": [],
   "source": [
    "train_size = int(0.8 * len(data))\n",
    "test_size = len(data) - train_size\n",
    "train_data, test_data = torch.utils.data.random_split(data, [train_size, test_size])\n"
   ]
  },
  {
   "cell_type": "code",
   "execution_count": 11,
   "id": "5952f733-3f47-4257-a586-e4aaa4cf5f3d",
   "metadata": {},
   "outputs": [],
   "source": [
    "train_loader = torch.utils.data.DataLoader(train_data, batch_size=32, shuffle=True)\n",
    "test_loader = torch.utils.data.DataLoader(test_data, batch_size=32, shuffle=True)"
   ]
  },
  {
   "cell_type": "code",
   "execution_count": 26,
   "id": "ac57d4d3-7078-4889-92a9-a6831b33c251",
   "metadata": {},
   "outputs": [],
   "source": [
    "model = torchvision.models.resnet18(pretrained=False)\n",
    "# class CNN(nn.Module):\n",
    "#     def __init__(self):\n",
    "#         super(CNN, self).__init__()\n",
    "#         self.conv1 = nn.Conv2d(3, 6, 5)\n",
    "#         self.pool = nn.MaxPool2d(2, 2)\n",
    "#         self.conv2 = nn.Conv2d(6, 16, 5)\n",
    "#         self.relu = nn.ReLU()\n",
    "#         self.fc1 = nn.Linear(16 * 57 * 57, 120)\n",
    "#         self.fc2 = nn.Linear(120, 84)\n",
    "#         self.fc3 = nn.Linear(84, 2)\n",
    "\n",
    "#     def forward(self, x):\n",
    "#         x = self.pool(self.relu(self.conv1(x)))\n",
    "#         x = self.pool(self.relu(self.conv2(x)))\n",
    "#         x = x.view(-1, 16 * 57 * 57)\n",
    "#         x = self.relu(self.fc1(x))\n",
    "#         x = self.relu(self.fc2(x))\n",
    "#         x = self.fc3(x)\n",
    "#         return x\n",
    "\n",
    "# model = CNN()\n",
    "criterion = torch.nn.CrossEntropyLoss()\n",
    "optimizer = torch.optim.Adam(model.parameters())"
   ]
  },
  {
   "cell_type": "code",
   "execution_count": 27,
   "id": "12a8818f-771f-4fd0-872b-058447cd510a",
   "metadata": {},
   "outputs": [
    {
     "name": "stdout",
     "output_type": "stream",
     "text": [
      "epoch: 0, loss: 3.5514233112335205\n",
      "epoch: 1, loss: 0.6420246958732605\n",
      "epoch: 2, loss: 0.328020304441452\n",
      "epoch: 3, loss: 0.503030002117157\n",
      "epoch: 4, loss: 0.25328329205513\n",
      "epoch: 5, loss: 0.23285914957523346\n",
      "epoch: 6, loss: 0.42719951272010803\n",
      "epoch: 7, loss: 0.25718727707862854\n",
      "epoch: 8, loss: 0.24429954588413239\n",
      "epoch: 9, loss: 0.2866291403770447\n",
      "epoch: 10, loss: 0.3687301278114319\n",
      "epoch: 11, loss: 0.20827637612819672\n",
      "epoch: 12, loss: 0.11123477667570114\n",
      "epoch: 13, loss: 0.12277362495660782\n",
      "epoch: 14, loss: 0.15007992088794708\n",
      "epoch: 15, loss: 0.03538186475634575\n",
      "epoch: 16, loss: 0.011650720611214638\n",
      "epoch: 17, loss: 0.012640313245356083\n",
      "epoch: 18, loss: 0.023621225729584694\n",
      "epoch: 19, loss: 0.005041072610765696\n"
     ]
    }
   ],
   "source": [
    "for epoch in range(20):\n",
    "    for inputs, labels in train_loader:\n",
    "        optimizer.zero_grad()\n",
    "        outputs = model(inputs)\n",
    "        loss = criterion(outputs, labels)\n",
    "        loss.backward()\n",
    "        optimizer.step()\n",
    "    print(f\"epoch: {epoch}, loss: {loss}\")"
   ]
  },
  {
   "cell_type": "code",
   "execution_count": 28,
   "id": "b9d13e64-2f6a-4d93-9a34-d8ae283790a7",
   "metadata": {},
   "outputs": [
    {
     "name": "stdout",
     "output_type": "stream",
     "text": [
      "Accuracy of the network on the test images: 70 %\n"
     ]
    }
   ],
   "source": [
    "correct = 0\n",
    "total = 0\n",
    "with torch.no_grad():\n",
    "    for inputs, labels in test_loader:\n",
    "        outputs = model(inputs)\n",
    "        _, predicted = torch.max(outputs.data, 1)\n",
    "        total += labels.size(0)\n",
    "        correct += (predicted == labels).sum().item()\n",
    "\n",
    "print('Accuracy of the network on the test images: %d %%' % (100 * correct / total))"
   ]
  },
  {
   "cell_type": "code",
   "execution_count": null,
   "id": "40cefbea-68c6-45ce-991b-bfac00fb480d",
   "metadata": {},
   "outputs": [],
   "source": []
  }
 ],
 "metadata": {
  "kernelspec": {
   "display_name": "Python 3 (ipykernel)",
   "language": "python",
   "name": "python3"
  },
  "language_info": {
   "codemirror_mode": {
    "name": "ipython",
    "version": 3
   },
   "file_extension": ".py",
   "mimetype": "text/x-python",
   "name": "python",
   "nbconvert_exporter": "python",
   "pygments_lexer": "ipython3",
   "version": "3.9.15"
  }
 },
 "nbformat": 4,
 "nbformat_minor": 5
}
